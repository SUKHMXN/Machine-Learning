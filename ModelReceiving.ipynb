{
 "cells": [
  {
   "cell_type": "code",
   "execution_count": 1,
   "id": "3294875e-9feb-4295-b5cf-59699f2bcf91",
   "metadata": {},
   "outputs": [],
   "source": [
    "import pickle\n",
    "import numpy as np"
   ]
  },
  {
   "cell_type": "code",
   "execution_count": 5,
   "id": "d7ddfef6-ab4e-4186-9d90-2f7092ba6a44",
   "metadata": {},
   "outputs": [],
   "source": [
    "with open('export.pkl','rb') as file:\n",
    "    clf=pickle.load(file)"
   ]
  },
  {
   "cell_type": "code",
   "execution_count": 12,
   "id": "f2de812c-8712-4535-b43d-9724432acac6",
   "metadata": {},
   "outputs": [
    {
     "name": "stderr",
     "output_type": "stream",
     "text": [
      "C:\\Users\\hp\\AppData\\Local\\Programs\\Python\\Python312\\Lib\\site-packages\\sklearn\\base.py:493: UserWarning: X does not have valid feature names, but StandardScaler was fitted with feature names\n",
      "  warnings.warn(\n"
     ]
    }
   ],
   "source": [
    "import numpy as np\n",
    "\n",
    "# Assuming clf is your classifier model\n",
    "# Example data (1D array with 5 elements)\n",
    "data = np.array([93.8, 25.68, 91.84, 1.84, 74.2])\n",
    "\n",
    "# Reshape the input data to a 2D array (1 sample, multiple features)\n",
    "data_reshaped = data.reshape(1, -1)\n",
    "\n",
    "# Predict using the reshaped data\n",
    "pred = clf.predict(data_reshaped)\n"
   ]
  },
  {
   "cell_type": "code",
   "execution_count": 13,
   "id": "73bcf6ed-3f72-4c5d-afdc-9124f36d3dd1",
   "metadata": {},
   "outputs": [
    {
     "data": {
      "text/plain": [
       "array([3], dtype=int64)"
      ]
     },
     "execution_count": 13,
     "metadata": {},
     "output_type": "execute_result"
    }
   ],
   "source": [
    "pred"
   ]
  },
  {
   "cell_type": "code",
   "execution_count": null,
   "id": "3f474f74-24e0-40a0-ae9d-0f45594ce8b7",
   "metadata": {},
   "outputs": [],
   "source": []
  }
 ],
 "metadata": {
  "kernelspec": {
   "display_name": "Python 3 (ipykernel)",
   "language": "python",
   "name": "python3"
  },
  "language_info": {
   "codemirror_mode": {
    "name": "ipython",
    "version": 3
   },
   "file_extension": ".py",
   "mimetype": "text/x-python",
   "name": "python",
   "nbconvert_exporter": "python",
   "pygments_lexer": "ipython3",
   "version": "3.12.3"
  }
 },
 "nbformat": 4,
 "nbformat_minor": 5
}
